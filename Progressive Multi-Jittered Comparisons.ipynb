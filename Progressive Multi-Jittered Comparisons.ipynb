{
 "cells": [
  {
   "cell_type": "markdown",
   "metadata": {},
   "source": [
    "## Progressive Multi-Jittered Sequences "
   ]
  },
  {
   "cell_type": "markdown",
   "metadata": {},
   "source": [
    "This notebook is just to reimplement the different sampling experiments defined in the paper 'Progressive Multi-Jittered Sampling Sequences' by Christensen et.al.\n",
    "\n",
    "Also it'd be a nice place to test future sampling ideas and easily compare them against one another."
   ]
  },
  {
   "cell_type": "code",
   "execution_count": 2,
   "metadata": {},
   "outputs": [],
   "source": [
    "# Code from the paper's supplemental\n",
    "\n",
    "import math\n",
    "\n",
    "# function to generate a sample point\n",
    "samples = []\n",
    "\n",
    "def generateSamplePoint(i, j, xhalf, yhalf, n):\n",
    "    x = (i + 0.5 * (xhalf + math.random.uniform())) / n\n",
    "    y = (j + 0.5 * (yhalf + math.random.uniform())) / n\n",
    "    return (x, y)\n",
    "\n",
    "def extendSequence(N):\n",
    "    n = math.sqrt(N)\n",
    "    \n",
    "    for s in range(0, N - 1):\n",
    "        oldpt = samples[s]\n",
    "        \n",
    "        i = math.floor(n * oldpt[0])\n",
    "        j = math.floor(n * oldpt[1])\n",
    "        \n",
    "        xhalf = math.floor(2.0 * (n * oldpt[0] - i))\n",
    "        yhalf = math.floor(2.0 * (n * oldpt[1] - j))\n",
    "        xhalf = 1 - xhalf;\n",
    "        yhalf = 1 - yhalf;\n",
    "        \n",
    "        samples[N + s] = generateSamplePoint(i, j, xhalf, yhalf, n)\n",
    "        \n",
    "        if math.rand.uniform() > 0.5:\n",
    "            xhalf = 1 - xhalf;\n",
    "        else:\n",
    "            yhalf = 1 - yhalf;\n",
    "            \n",
    "        samples[2 * N + s] = generateSamplePoint(i, j, xhalf, yhalf, n)\n",
    "        xhalf = 1 - xhalf;\n",
    "        yhalf = 1 - yhalf;\n",
    "        \n",
    "        samples[3 * N + s] = generateSamplePoint(i, j, xhalf, yhalf, n)    \n"
   ]
  },
  {
   "cell_type": "code",
   "execution_count": null,
   "metadata": {},
   "outputs": [],
   "source": []
  }
 ],
 "metadata": {
  "kernelspec": {
   "display_name": "Python 3",
   "language": "python",
   "name": "python3"
  },
  "language_info": {
   "codemirror_mode": {
    "name": "ipython",
    "version": 3
   },
   "file_extension": ".py",
   "mimetype": "text/x-python",
   "name": "python",
   "nbconvert_exporter": "python",
   "pygments_lexer": "ipython3",
   "version": "3.7.1"
  }
 },
 "nbformat": 4,
 "nbformat_minor": 2
}
