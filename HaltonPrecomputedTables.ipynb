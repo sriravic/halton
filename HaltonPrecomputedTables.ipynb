{
 "cells": [
  {
   "cell_type": "markdown",
   "metadata": {},
   "source": [
    "### Halton Sequences Precomputed Shuffle Tables\n",
    "\n",
    "We compute the halton precomputed shuffle tables for halton sequences so that we can statically allocate them\n",
    "in the source files"
   ]
  },
  {
   "cell_type": "code",
   "execution_count": 10,
   "metadata": {},
   "outputs": [],
   "source": [
    "import sys"
   ]
  },
  {
   "cell_type": "code",
   "execution_count": 11,
   "metadata": {},
   "outputs": [],
   "source": [
    "# This should be made the same in the generator scripts\n",
    "num_dimensions = 5;\n",
    "primes = [] # prime numbers\n",
    "faure, faure_inverse = [], [] # Faure permutations"
   ]
  },
  {
   "cell_type": "code",
   "execution_count": 12,
   "metadata": {},
   "outputs": [],
   "source": [
    "# Convenient function to check for prime numbers\n",
    "# not optimized\n",
    "def is_prime(p):\n",
    "    for i in range(2, p):\n",
    "        if not p % i:\n",
    "            return False\n",
    "    return True"
   ]
  },
  {
   "cell_type": "code",
   "execution_count": 13,
   "metadata": {},
   "outputs": [],
   "source": [
    "# fill in the primes array\n",
    "primes = []\n",
    "candidate = 1\n",
    "for i in range(num_dimensions):\n",
    "    while (True):\n",
    "        candidate += 1\n",
    "        if (is_prime(candidate)):\n",
    "            break;\n",
    "    primes.append(candidate)"
   ]
  },
  {
   "cell_type": "code",
   "execution_count": 14,
   "metadata": {},
   "outputs": [],
   "source": [
    "def get_faure_permutation(b):\n",
    "    \"\"\"Compute the Faure digit permutation for 0, ..., b - 1.\"\"\"\n",
    "\n",
    "    if b < 2:\n",
    "        return (0,)\n",
    "\n",
    "    elif b == 2:\n",
    "        return (0, 1)\n",
    "\n",
    "    elif b & 1: # odd\n",
    "        c = (b - 1) / 2\n",
    "\n",
    "        def faure_odd(i):\n",
    "            if i == c:\n",
    "                return c\n",
    "\n",
    "            f = faure[b - 1][i - int(i > c)]\n",
    "            return f + int(f >= c)\n",
    "\n",
    "        return tuple((faure_odd(i) for i in range(b)))\n",
    "\n",
    "    else: # even\n",
    "        c = b / 2\n",
    "\n",
    "        def faure_even(i):\n",
    "            if i < c:\n",
    "                return 2 * faure[c][i]\n",
    "            else:\n",
    "                return 2 * faure[c][i - c] + 1\n",
    "\n",
    "        return tuple((faure_even(i) for i in range(b)))\n"
   ]
  },
  {
   "cell_type": "code",
   "execution_count": 15,
   "metadata": {},
   "outputs": [],
   "source": [
    "def invert_permutation(perm):\n",
    "    \"\"\"Returns the inverted permutation of 0, ..., len(perm) - 1.\"\"\"\n",
    "\n",
    "    inverse = [0] * len(perm)\n",
    "    for (i, j) in enumerate(perm):\n",
    "        inverse[j] = i\n",
    "\n",
    "    return tuple(inverse)"
   ]
  },
  {
   "cell_type": "code",
   "execution_count": 21,
   "metadata": {},
   "outputs": [],
   "source": [
    "def init_faure_permutations():\n",
    "    \"\"\"Initialize the list of Faure permutations up to the maximum prime number.\"\"\"\n",
    "\n",
    "    global faure, faure_inverse\n",
    "    faure, faure_inverse = [], []\n",
    "    for b in range(primes[-1] + 1):\n",
    "        print(b)\n",
    "        faure.append(get_faure_permutation(b))\n",
    "        print(faure)\n",
    "        faure_inverse.append(invert_permutation(faure[b]))\n",
    "        print(faure_inverse)"
   ]
  },
  {
   "cell_type": "code",
   "execution_count": 22,
   "metadata": {},
   "outputs": [
    {
     "name": "stdout",
     "output_type": "stream",
     "text": [
      "0\n",
      "[(0,)]\n",
      "[(0,)]\n",
      "1\n",
      "[(0,), (0,)]\n",
      "[(0,), (0,)]\n",
      "2\n",
      "[(0,), (0,), (0, 1)]\n",
      "[(0,), (0,), (0, 1)]\n",
      "3\n",
      "[(0,), (0,), (0, 1), (0, 1.0, 2)]\n"
     ]
    },
    {
     "ename": "TypeError",
     "evalue": "list indices must be integers or slices, not float",
     "output_type": "error",
     "traceback": [
      "\u001b[1;31m---------------------------------------------------------------------------\u001b[0m",
      "\u001b[1;31mTypeError\u001b[0m                                 Traceback (most recent call last)",
      "\u001b[1;32m<ipython-input-22-87de54618ef3>\u001b[0m in \u001b[0;36m<module>\u001b[1;34m()\u001b[0m\n\u001b[1;32m----> 1\u001b[1;33m \u001b[0minit_faure_permutations\u001b[0m\u001b[1;33m(\u001b[0m\u001b[1;33m)\u001b[0m\u001b[1;33m\u001b[0m\u001b[0m\n\u001b[0m\u001b[0;32m      2\u001b[0m \u001b[0mprint\u001b[0m\u001b[1;33m(\u001b[0m\u001b[0mfaure\u001b[0m\u001b[1;33m)\u001b[0m\u001b[1;33m\u001b[0m\u001b[0m\n\u001b[0;32m      3\u001b[0m \u001b[0mprint\u001b[0m\u001b[1;33m(\u001b[0m\u001b[0mfaure_inverse\u001b[0m\u001b[1;33m)\u001b[0m\u001b[1;33m\u001b[0m\u001b[0m\n",
      "\u001b[1;32m<ipython-input-21-8f6ae3f990d4>\u001b[0m in \u001b[0;36minit_faure_permutations\u001b[1;34m()\u001b[0m\n\u001b[0;32m      8\u001b[0m         \u001b[0mfaure\u001b[0m\u001b[1;33m.\u001b[0m\u001b[0mappend\u001b[0m\u001b[1;33m(\u001b[0m\u001b[0mget_faure_permutation\u001b[0m\u001b[1;33m(\u001b[0m\u001b[0mb\u001b[0m\u001b[1;33m)\u001b[0m\u001b[1;33m)\u001b[0m\u001b[1;33m\u001b[0m\u001b[0m\n\u001b[0;32m      9\u001b[0m         \u001b[0mprint\u001b[0m\u001b[1;33m(\u001b[0m\u001b[0mfaure\u001b[0m\u001b[1;33m)\u001b[0m\u001b[1;33m\u001b[0m\u001b[0m\n\u001b[1;32m---> 10\u001b[1;33m         \u001b[0mfaure_inverse\u001b[0m\u001b[1;33m.\u001b[0m\u001b[0mappend\u001b[0m\u001b[1;33m(\u001b[0m\u001b[0minvert_permutation\u001b[0m\u001b[1;33m(\u001b[0m\u001b[0mfaure\u001b[0m\u001b[1;33m[\u001b[0m\u001b[0mb\u001b[0m\u001b[1;33m]\u001b[0m\u001b[1;33m)\u001b[0m\u001b[1;33m)\u001b[0m\u001b[1;33m\u001b[0m\u001b[0m\n\u001b[0m\u001b[0;32m     11\u001b[0m         \u001b[0mprint\u001b[0m\u001b[1;33m(\u001b[0m\u001b[0mfaure_inverse\u001b[0m\u001b[1;33m)\u001b[0m\u001b[1;33m\u001b[0m\u001b[0m\n",
      "\u001b[1;32m<ipython-input-15-9f668219cfc9>\u001b[0m in \u001b[0;36minvert_permutation\u001b[1;34m(perm)\u001b[0m\n\u001b[0;32m      4\u001b[0m     \u001b[0minverse\u001b[0m \u001b[1;33m=\u001b[0m \u001b[1;33m[\u001b[0m\u001b[1;36m0\u001b[0m\u001b[1;33m]\u001b[0m \u001b[1;33m*\u001b[0m \u001b[0mlen\u001b[0m\u001b[1;33m(\u001b[0m\u001b[0mperm\u001b[0m\u001b[1;33m)\u001b[0m\u001b[1;33m\u001b[0m\u001b[0m\n\u001b[0;32m      5\u001b[0m     \u001b[1;32mfor\u001b[0m \u001b[1;33m(\u001b[0m\u001b[0mi\u001b[0m\u001b[1;33m,\u001b[0m \u001b[0mj\u001b[0m\u001b[1;33m)\u001b[0m \u001b[1;32min\u001b[0m \u001b[0menumerate\u001b[0m\u001b[1;33m(\u001b[0m\u001b[0mperm\u001b[0m\u001b[1;33m)\u001b[0m\u001b[1;33m:\u001b[0m\u001b[1;33m\u001b[0m\u001b[0m\n\u001b[1;32m----> 6\u001b[1;33m         \u001b[0minverse\u001b[0m\u001b[1;33m[\u001b[0m\u001b[0mj\u001b[0m\u001b[1;33m]\u001b[0m \u001b[1;33m=\u001b[0m \u001b[0mi\u001b[0m\u001b[1;33m\u001b[0m\u001b[0m\n\u001b[0m\u001b[0;32m      7\u001b[0m \u001b[1;33m\u001b[0m\u001b[0m\n\u001b[0;32m      8\u001b[0m     \u001b[1;32mreturn\u001b[0m \u001b[0mtuple\u001b[0m\u001b[1;33m(\u001b[0m\u001b[0minverse\u001b[0m\u001b[1;33m)\u001b[0m\u001b[1;33m\u001b[0m\u001b[0m\n",
      "\u001b[1;31mTypeError\u001b[0m: list indices must be integers or slices, not float"
     ]
    }
   ],
   "source": [
    "init_faure_permutations()\n",
    "print(faure)\n",
    "print(faure_inverse)"
   ]
  },
  {
   "cell_type": "code",
   "execution_count": null,
   "metadata": {},
   "outputs": [],
   "source": []
  }
 ],
 "metadata": {
  "kernelspec": {
   "display_name": "Python 3",
   "language": "python",
   "name": "python3"
  },
  "language_info": {
   "codemirror_mode": {
    "name": "ipython",
    "version": 3
   },
   "file_extension": ".py",
   "mimetype": "text/x-python",
   "name": "python",
   "nbconvert_exporter": "python",
   "pygments_lexer": "ipython3",
   "version": "3.7.0"
  }
 },
 "nbformat": 4,
 "nbformat_minor": 2
}
