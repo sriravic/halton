{
 "cells": [
  {
   "cell_type": "markdown",
   "metadata": {},
   "source": [
    "#### PMJ\n",
    "\n",
    "This notebook contains all the code to test the progressive multi-jittered sequences from Pixar."
   ]
  },
  {
   "cell_type": "code",
   "execution_count": 75,
   "metadata": {},
   "outputs": [],
   "source": [
    "import sys\n",
    "import matplotlib.pyplot as plt\n",
    "import math\n",
    "import random as rng\n",
    "%matplotlib inline"
   ]
  },
  {
   "cell_type": "code",
   "execution_count": 102,
   "metadata": {},
   "outputs": [],
   "source": [
    "# basic functions that the sampler needs\n",
    "def generateSamplePt(i, j, xhalf, yhalf, n):\n",
    "    x = (i + 0.5 * (xhalf + rng.random())) / n\n",
    "    y = (j + 0.5 * (yhalf + rng.random())) / n\n",
    "    return (x, y)"
   ]
  },
  {
   "cell_type": "code",
   "execution_count": 171,
   "metadata": {},
   "outputs": [],
   "source": [
    "# extend sequence function\n",
    "def extendSequence(N):\n",
    "    n = int(math.sqrt(N))\n",
    "    for s in range(0, N):\n",
    "        oldpt = samples[s]\n",
    "        i = int(math.floor(n * oldpt[0]))\n",
    "        j = int(math.floor(n * oldpt[1]))\n",
    "        \n",
    "        # xhalf and yhalf are always ints\n",
    "        xhalf = int(math.floor(2.0 * (n * oldpt[0] - i)))\n",
    "        yhalf = int(math.floor(2.0 * (n * oldpt[1] - j)))\n",
    "        #print(xhalf, yhalf)                                             \n",
    "        \n",
    "        # first select the diagonally opposite quadrant\n",
    "        xhalf = 1 - xhalf\n",
    "        yhalf = 1 - yhalf\n",
    "        #print(xhalf, yhalf)\n",
    "        pt = generateSamplePt(i, j, xhalf, yhalf, n);\n",
    "        samples[N + s] = pt\n",
    "        \n",
    "        # then randomly select one of the two remaining quadrants\n",
    "        if rng.random() > 0.5:\n",
    "            xhalf = 1 - xhalf\n",
    "        else:\n",
    "            yhalf = 1 - yhalf\n",
    "        #print(xhalf, yhalf)\n",
    "        pt = generateSamplePt(i, j, xhalf, yhalf, n)\n",
    "        samples[2 * N + s] = pt\n",
    "        \n",
    "        # generate the last subquadrant        \n",
    "        xhalf = 1 - xhalf;\n",
    "        yhalf = 1 - yhalf;\n",
    "        #print(xhalf, yhalf)\n",
    "        pt = generateSamplePt(i, j, xhalf, yhalf, n)\n",
    "        samples[3 * N + s] = pt"
   ]
  },
  {
   "cell_type": "code",
   "execution_count": 172,
   "metadata": {},
   "outputs": [],
   "source": [
    "# actual procedure to generate sample\n",
    "def generatePMJ(M):\n",
    "    samples.append((rng.random(), rng.random()))\n",
    "    N = 1\n",
    "    while N < M:\n",
    "        # allocate space for additional 3N sequences\n",
    "        for n in range(0, 3 * N):\n",
    "            samples.append((-1, -1))\n",
    "        extendSequence(N)\n",
    "        N *= 4"
   ]
  },
  {
   "cell_type": "code",
   "execution_count": 187,
   "metadata": {},
   "outputs": [],
   "source": [
    "# plotting function\n",
    "def plotsamples(title):\n",
    "    plt.figure(figsize=(10, 10))\n",
    "    plt.title(title)\n",
    "    x = []\n",
    "    y = []\n",
    "    for s in samples:\n",
    "        x.append(s[0])\n",
    "        y.append(s[1])\n",
    "    plt.scatter(x, y, s = 1)\n",
    "    plt.xlim([0, 1])\n",
    "    plt.ylim([0, 1])\n",
    "    plt.show()"
   ]
  },
  {
   "cell_type": "code",
   "execution_count": 190,
   "metadata": {},
   "outputs": [
    {
     "data": {
      "image/png": "[encoded data removed]",
      "text/plain": [
       "<Figure size 720x720 with 1 Axes>"
      ]
     },
     "metadata": {
      "needs_background": "light"
     },
     "output_type": "display_data"
    }
   ],
   "source": [
    "samples = []\n",
    "generatePMJ(100)\n",
    "plotsamples('PMJ')"
   ]
  },
  {
   "cell_type": "code",
   "execution_count": null,
   "metadata": {},
   "outputs": [],
   "source": []
  }
 ],
 "metadata": {
  "kernelspec": {
   "display_name": "Python 3",
   "language": "python",
   "name": "python3"
  },
  "language_info": {
   "codemirror_mode": {
    "name": "ipython",
    "version": 3
   },
   "file_extension": ".py",
   "mimetype": "text/x-python",
   "name": "python",
   "nbconvert_exporter": "python",
   "pygments_lexer": "ipython3",
   "version": "3.7.1"
  }
 },
 "nbformat": 4,
 "nbformat_minor": 2
}
