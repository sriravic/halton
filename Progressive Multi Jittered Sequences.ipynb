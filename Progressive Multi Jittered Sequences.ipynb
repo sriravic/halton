{
 "cells": [
  {
   "cell_type": "markdown",
   "metadata": {},
   "source": [
    "#### PMJ\n",
    "\n",
    "This notebook contains all the code to test the progressive multi-jittered sequences from Pixar."
   ]
  },
  {
   "cell_type": "code",
   "execution_count": 75,
   "metadata": {},
   "outputs": [],
   "source": [
    "import sys\n",
    "import matplotlib.pyplot as plt\n",
    "import math\n",
    "import random as rng\n",
    "%matplotlib inline"
   ]
  },
  {
   "cell_type": "code",
   "execution_count": 76,
   "metadata": {},
   "outputs": [],
   "source": [
    "# basic functions that the sampler needs\n",
    "def generateSamplePt(i, j, xhalf, yhalf, n):\n",
    "    x = (i + 0.5 * (xhalf * rng.random())) / n\n",
    "    y = (j + 0.5 * (yhalf * rng.random())) / n\n",
    "    return (x, y)"
   ]
  },
  {
   "cell_type": "code",
   "execution_count": 85,
   "metadata": {},
   "outputs": [],
   "source": [
    "# extend sequence function\n",
    "def extendSequence(N):\n",
    "    n = int(math.sqrt(N))\n",
    "    for s in range(0, N):\n",
    "        \n",
    "        #print(samples)\n",
    "        \n",
    "        oldpt = samples[s]\n",
    "        i = int(math.floor(n * oldpt[0]))\n",
    "        j = int(math.floor(n * oldpt[1]))\n",
    "        \n",
    "        # xhalf and yhalf are always ints\n",
    "        xhalf = int(math.floor(2.0 * (n * oldpt[0] - i)))\n",
    "        yhalf = int(math.floor(2.0 * (n * oldpt[1] - j)))\n",
    "        \n",
    "        # first select the diagonally opposite quadrant\n",
    "        xhalf = 1 - xhalf\n",
    "        yhalf = 1 - xhalf\n",
    "        pt = generateSamplePt(i, j, xhalf, yhalf, n);\n",
    "        print(\"1st pt : \", pt);\n",
    "        samples[N + s] = pt\n",
    "        \n",
    "        # then randomly select one of the two remaining quadrants\n",
    "        if rng.random() > 0.5:\n",
    "            xhalf = 1 - xhalf\n",
    "        else:\n",
    "            yhalf = 1 - yhalf\n",
    "        pt = generateSamplePt(i, j, xhalf, yhalf, n)\n",
    "        print(\"2nd pt : \", pt)\n",
    "        samples[2 * N + s] = pt\n",
    "        \n",
    "        # generate the last subquadrant\n",
    "        xhalf = 1 - xhalf;\n",
    "        yhalf = 1 - yhalf;\n",
    "        pt = generateSamplePt(i, j, xhalf, yhalf, n)\n",
    "        print(\"3rd pt : \", pt)\n",
    "        samples[3 * N + s] = pt"
   ]
  },
  {
   "cell_type": "code",
   "execution_count": 86,
   "metadata": {},
   "outputs": [],
   "source": [
    "# actual procedure to generate sample\n",
    "def generatePMJ(M):\n",
    "    samples.append((rng.random(), rng.random()))\n",
    "    N = 1\n",
    "    while N < M:\n",
    "        # allocate space for additional 3N sequences\n",
    "        for n in range(0, 3 * N):\n",
    "            samples.append((0, 0))\n",
    "        extendSequence(N)\n",
    "        N *= 4"
   ]
  },
  {
   "cell_type": "code",
   "execution_count": 87,
   "metadata": {},
   "outputs": [],
   "source": [
    "# plotting function\n",
    "def plotsamples():\n",
    "    plt.figure(figsize=(10, 10))\n",
    "    \n",
    "    x = []\n",
    "    y = []\n",
    "    for s in samples:\n",
    "        x.append(s[0])\n",
    "        y.append(s[1])\n",
    "    plt.scatter(x, y)\n",
    "    plt.show()"
   ]
  },
  {
   "cell_type": "code",
   "execution_count": 89,
   "metadata": {},
   "outputs": [
    {
     "name": "stdout",
     "output_type": "stream",
     "text": [
      "1st pt :  (0.0, 0.3431335793164732)\n",
      "2nd pt :  (0.0, 0.0)\n",
      "3rd pt :  (0.10958842505890454, 0.04917660198175805)\n",
      "[(0.9352428599861126, 0.07065821566395303), (0.0, 0.3431335793164732), (0.0, 0.0), (0.10958842505890454, 0.04917660198175805)]\n"
     ]
    },
    {
     "data": {
      "image/png": "[encoded data removed]",
      "text/plain": [
       "<Figure size 720x720 with 1 Axes>"
      ]
     },
     "metadata": {
      "needs_background": "light"
     },
     "output_type": "display_data"
    }
   ],
   "source": [
    "samples = []\n",
    "generatePMJ(2)\n",
    "print(samples)\n",
    "plotsamples()"
   ]
  },
  {
   "cell_type": "code",
   "execution_count": null,
   "metadata": {},
   "outputs": [],
   "source": []
  }
 ],
 "metadata": {
  "kernelspec": {
   "display_name": "Python 3",
   "language": "python",
   "name": "python3"
  },
  "language_info": {
   "codemirror_mode": {
    "name": "ipython",
    "version": 3
   },
   "file_extension": ".py",
   "mimetype": "text/x-python",
   "name": "python",
   "nbconvert_exporter": "python",
   "pygments_lexer": "ipython3",
   "version": "3.7.1"
  }
 },
 "nbformat": 4,
 "nbformat_minor": 2
}
